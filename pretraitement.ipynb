{
 "cells": [
  {
   "attachments": {},
   "cell_type": "markdown",
   "metadata": {},
   "source": [
    "# Pretraitement des données "
   ]
  },
  {
   "cell_type": "code",
   "execution_count": 16,
   "metadata": {},
   "outputs": [
    {
     "name": "stderr",
     "output_type": "stream",
     "text": [
      "[nltk_data] Downloading package stopwords to\n",
      "[nltk_data]     C:\\Users\\icoul\\AppData\\Roaming\\nltk_data...\n",
      "[nltk_data]   Package stopwords is already up-to-date!\n",
      "[nltk_data] Downloading package wordnet to\n",
      "[nltk_data]     C:\\Users\\icoul\\AppData\\Roaming\\nltk_data...\n",
      "[nltk_data]   Package wordnet is already up-to-date!\n"
     ]
    },
    {
     "data": {
      "text/plain": [
       "True"
      ]
     },
     "execution_count": 16,
     "metadata": {},
     "output_type": "execute_result"
    }
   ],
   "source": [
    "import string\n",
    "import nltk\n",
    "from nltk.corpus import stopwords\n",
    "from nltk.stem import WordNetLemmatizer\n",
    "\n",
    "\n",
    "from sklearn.datasets import fetch_20newsgroups\n",
    "from sklearn.model_selection import train_test_split\n",
    "import pickle\n",
    "\n",
    "# Télécharger les stopwords et les modèles de lemmatisation de NLTK\n",
    "nltk.download('stopwords')\n",
    "nltk.download('wordnet')\n"
   ]
  },
  {
   "attachments": {},
   "cell_type": "markdown",
   "metadata": {},
   "source": [
    "## Importation des données et découpages des données"
   ]
  },
  {
   "cell_type": "code",
   "execution_count": 17,
   "metadata": {},
   "outputs": [],
   "source": [
    "newsgroups = fetch_20newsgroups(subset='all',  remove=('headers', 'footers', 'quotes'))\n",
    "\n",
    "X_train, X_test, y_train, y_test = train_test_split(newsgroups.data, newsgroups.target, test_size=0.2, random_state=20222023, stratify=newsgroups.target,)\n",
    "X_train, X_valid, y_train, y_valid = train_test_split(X_train, y_train, test_size=0.2, random_state=20222023, stratify=y_train)"
   ]
  },
  {
   "attachments": {},
   "cell_type": "markdown",
   "metadata": {},
   "source": [
    "## Nettoyage des données"
   ]
  },
  {
   "cell_type": "code",
   "execution_count": 14,
   "metadata": {},
   "outputs": [],
   "source": [
    "lemmatizer = WordNetLemmatizer()\n",
    "translator = str.maketrans('', '', string.punctuation)\n",
    "stop_words = set(stopwords.words('english'))\n",
    "\n",
    "\n",
    "\n",
    "def clearner(X_train, y_train):\n",
    "    cleaned_train_data = []\n",
    "    for doc in X_train:\n",
    "        doc = doc.translate(translator)\n",
    "        doc = ' '.join([lemmatizer.lemmatize(word) for word in doc.split()])\n",
    "        doc = ' '.join([word for word in doc.split() if word not in stop_words])\n",
    "        cleaned_train_data.append(doc)\n",
    "    cleaned_train_labels = [str(label) for label in y_train]\n",
    "    return cleaned_train_data, cleaned_train_labels\n"
   ]
  },
  {
   "attachments": {},
   "cell_type": "markdown",
   "metadata": {},
   "source": [
    "## Création des données"
   ]
  },
  {
   "cell_type": "code",
   "execution_count": 15,
   "metadata": {},
   "outputs": [],
   "source": [
    "X_train , y_train = clearner(X_train, y_train)\n",
    "with open('data\\ptb.train.txt', 'w') as f:\n",
    "    for doc in X_train:\n",
    "        f.write(doc + '\\n')\n",
    "        \n",
    "with open('data\\ptb.train_labels.txt', 'w') as f:\n",
    "    for label in y_train:\n",
    "        f.write(str(label) + '\\n')\n",
    "\n",
    "X_test , y_test = clearner(X_test, y_test)\n",
    "with open('data\\ptb.test.txt', 'w') as f:\n",
    "    for doc in X_test:\n",
    "        f.write(doc + '\\n')\n",
    "        \n",
    "with open('data\\ptb.test_labels.txt', 'w') as f:\n",
    "    for label in y_test:\n",
    "        f.write(str(label) + '\\n')\n",
    "\n",
    "X_valid , y_valid = clearner(X_valid, y_valid)\n",
    "with open('data\\ptb.valid.txt', 'w') as f:\n",
    "    for doc in X_valid:\n",
    "        f.write(doc + '\\n')\n",
    "        \n",
    "with open('data\\ptb.valid_labels.txt', 'w') as f:\n",
    "    for label in y_valid:\n",
    "        f.write(str(label) + '\\n')"
   ]
  }
 ],
 "metadata": {
  "kernelspec": {
   "display_name": "Python 3",
   "language": "python",
   "name": "python3"
  },
  "language_info": {
   "codemirror_mode": {
    "name": "ipython",
    "version": 3
   },
   "file_extension": ".py",
   "mimetype": "text/x-python",
   "name": "python",
   "nbconvert_exporter": "python",
   "pygments_lexer": "ipython3",
   "version": "3.10.9"
  },
  "orig_nbformat": 4
 },
 "nbformat": 4,
 "nbformat_minor": 2
}
